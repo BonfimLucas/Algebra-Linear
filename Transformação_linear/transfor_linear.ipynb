{
  "nbformat": 4,
  "nbformat_minor": 0,
  "metadata": {
    "colab": {
      "provenance": [],
      "collapsed_sections": [],
      "toc_visible": true
    },
    "kernelspec": {
      "name": "python3",
      "display_name": "Python 3"
    },
    "language_info": {
      "name": "python"
    }
  },
  "cells": [
    {
      "cell_type": "markdown",
      "source": [
        "# **TRANSFORMAÇÃO LINEAR**"
      ],
      "metadata": {
        "id": "sGi37WuVONmD"
      }
    },
    {
      "cell_type": "markdown",
      "source": [
        "# **HOMOTETIA**"
      ],
      "metadata": {
        "id": "GIyifXTWOZbE"
      }
    },
    {
      "cell_type": "code",
      "source": [
        "import numpy as np\n",
        "import matplotlib.pyplot as plt\n"
      ],
      "metadata": {
        "id": "ebSkkevfOdnE"
      },
      "execution_count": 37,
      "outputs": []
    },
    {
      "cell_type": "code",
      "source": [
        "# vetor que receberá a transformação\n",
        "vetorH = np.array([[2],[1]])\n",
        "vetorH"
      ],
      "metadata": {
        "colab": {
          "base_uri": "https://localhost:8080/"
        },
        "id": "uATvAkREOnPs",
        "outputId": "f4495541-b8ac-4fda-d889-329d53600483"
      },
      "execution_count": 38,
      "outputs": [
        {
          "output_type": "execute_result",
          "data": {
            "text/plain": [
              "array([[2],\n",
              "       [1]])"
            ]
          },
          "metadata": {},
          "execution_count": 38
        }
      ]
    },
    {
      "cell_type": "code",
      "source": [
        "# parametro de proporção\n",
        "k = 3"
      ],
      "metadata": {
        "id": "iYTsP3_WPLcX"
      },
      "execution_count": 39,
      "outputs": []
    },
    {
      "cell_type": "code",
      "source": [
        "# Matriz de transformação\n",
        "T = np.array([[k,0],\n",
        "              [0,k]])\n",
        "T"
      ],
      "metadata": {
        "colab": {
          "base_uri": "https://localhost:8080/"
        },
        "id": "vE9sPMIdPVr-",
        "outputId": "797acec0-7aeb-47c2-c8a3-95d25c28d870"
      },
      "execution_count": 40,
      "outputs": [
        {
          "output_type": "execute_result",
          "data": {
            "text/plain": [
              "array([[3, 0],\n",
              "       [0, 3]])"
            ]
          },
          "metadata": {},
          "execution_count": 40
        }
      ]
    },
    {
      "cell_type": "code",
      "source": [
        "# coodernadas do vetor\n",
        "x = [vetorH[0],0]\n",
        "y = [0,vetorH[1]]"
      ],
      "metadata": {
        "id": "ngZl1CTbQL3G"
      },
      "execution_count": 41,
      "outputs": []
    },
    {
      "cell_type": "code",
      "source": [
        "plt.plot(x, y, color = \"blue\")"
      ],
      "metadata": {
        "colab": {
          "base_uri": "https://localhost:8080/",
          "height": 0
        },
        "id": "dhzOu37QQj5v",
        "outputId": "d56d83b1-bafb-4936-a108-b48d04c8ac07"
      },
      "execution_count": 42,
      "outputs": [
        {
          "output_type": "stream",
          "name": "stderr",
          "text": [
            "/usr/local/lib/python3.7/dist-packages/numpy/core/shape_base.py:65: VisibleDeprecationWarning: Creating an ndarray from ragged nested sequences (which is a list-or-tuple of lists-or-tuples-or ndarrays with different lengths or shapes) is deprecated. If you meant to do this, you must specify 'dtype=object' when creating the ndarray.\n",
            "  ary = asanyarray(ary)\n"
          ]
        },
        {
          "output_type": "execute_result",
          "data": {
            "text/plain": [
              "[<matplotlib.lines.Line2D at 0x7f943f6b8110>]"
            ]
          },
          "metadata": {},
          "execution_count": 42
        },
        {
          "output_type": "display_data",
          "data": {
            "text/plain": [
              "<Figure size 432x288 with 1 Axes>"
            ],
            "image/png": "[encoded data removed]"
          },
          "metadata": {
            "needs_background": "light"
          }
        }
      ]
    },
    {
      "cell_type": "code",
      "source": [
        "#Calculo para transformação\n",
        "matrizT = np.dot(T, vetorH)\n",
        "matrizT"
      ],
      "metadata": {
        "colab": {
          "base_uri": "https://localhost:8080/"
        },
        "id": "kg9NXOtcRL6Q",
        "outputId": "05abe899-2249-4e6f-b0c6-c681d9aa8e21"
      },
      "execution_count": 43,
      "outputs": [
        {
          "output_type": "execute_result",
          "data": {
            "text/plain": [
              "array([[6],\n",
              "       [3]])"
            ]
          },
          "metadata": {},
          "execution_count": 43
        }
      ]
    },
    {
      "cell_type": "code",
      "source": [
        "xT = [matrizT[0],0]\n",
        "yT = [0,matrizT[1]]"
      ],
      "metadata": {
        "id": "RgkVpGZtRkCh"
      },
      "execution_count": 44,
      "outputs": []
    },
    {
      "cell_type": "code",
      "source": [
        "plt.plot(x,y, color = \"blue\")\n",
        "plt.plot(xT, yT, color = \"red\")\n",
        "plt.show();"
      ],
      "metadata": {
        "colab": {
          "base_uri": "https://localhost:8080/",
          "height": 0
        },
        "id": "oFd-DNmiR_Rj",
        "outputId": "6484674a-c6d8-4555-b4c9-3bca8f7a2a2f"
      },
      "execution_count": 45,
      "outputs": [
        {
          "output_type": "display_data",
          "data": {
            "text/plain": [
              "<Figure size 432x288 with 1 Axes>"
            ],
            "image/png": "[encoded data removed]"
          },
          "metadata": {
            "needs_background": "light"
          }
        }
      ]
    },
    {
      "cell_type": "markdown",
      "source": [
        "# **TRANSLAÇÃO**"
      ],
      "metadata": {
        "id": "ONMVqxm0U2Gg"
      }
    },
    {
      "cell_type": "code",
      "source": [
        "import numpy as np\n",
        "import matplotlib.pyplot as plt\n"
      ],
      "metadata": {
        "id": "9-e0bhvCU5LY"
      },
      "execution_count": 46,
      "outputs": []
    },
    {
      "cell_type": "code",
      "source": [
        "#vetor que receberá a transformação\n",
        "vetorT = np.array([[3,2],[2,5]])\n",
        "vetorT"
      ],
      "metadata": {
        "colab": {
          "base_uri": "https://localhost:8080/"
        },
        "id": "Y_xsS_2rVWmP",
        "outputId": "b2a41bd2-2958-4001-d8de-29d883347cd8"
      },
      "execution_count": 47,
      "outputs": [
        {
          "output_type": "execute_result",
          "data": {
            "text/plain": [
              "array([[3, 2],\n",
              "       [2, 5]])"
            ]
          },
          "metadata": {},
          "execution_count": 47
        }
      ]
    },
    {
      "cell_type": "code",
      "source": [
        "#matriz de transform\n",
        "T = np.array([[4,1],\n",
        "              [4,1]])\n",
        "T"
      ],
      "metadata": {
        "colab": {
          "base_uri": "https://localhost:8080/"
        },
        "id": "ZiqqSDPqVnNu",
        "outputId": "a138c21e-ccff-4f91-c3f8-8a2c3da2f15c"
      },
      "execution_count": 48,
      "outputs": [
        {
          "output_type": "execute_result",
          "data": {
            "text/plain": [
              "array([[4, 1],\n",
              "       [4, 1]])"
            ]
          },
          "metadata": {},
          "execution_count": 48
        }
      ]
    },
    {
      "cell_type": "code",
      "source": [
        "#cordenadas do vetor\n",
        "x = [vetorT[0][0],vetorT[1][0]]\n",
        "y = [vetorT[0][1],vetorT[1][1]]"
      ],
      "metadata": {
        "id": "tzZAku6IV5tv"
      },
      "execution_count": 49,
      "outputs": []
    },
    {
      "cell_type": "code",
      "source": [
        "plt.plot(x,y, color = \"blue\")"
      ],
      "metadata": {
        "colab": {
          "base_uri": "https://localhost:8080/",
          "height": 283
        },
        "id": "BAyuykFVXRC8",
        "outputId": "eefe7371-042d-4c14-aa71-0415f8a10efb"
      },
      "execution_count": 50,
      "outputs": [
        {
          "output_type": "execute_result",
          "data": {
            "text/plain": [
              "[<matplotlib.lines.Line2D at 0x7f944005b5d0>]"
            ]
          },
          "metadata": {},
          "execution_count": 50
        },
        {
          "output_type": "display_data",
          "data": {
            "text/plain": [
              "<Figure size 432x288 with 1 Axes>"
            ],
            "image/png": "[encoded data removed]"
          },
          "metadata": {
            "needs_background": "light"
          }
        }
      ]
    },
    {
      "cell_type": "code",
      "source": [
        "# calculo para transformação\n",
        "matrizT = vetorT + T\n",
        "matrizT"
      ],
      "metadata": {
        "colab": {
          "base_uri": "https://localhost:8080/"
        },
        "id": "0Pg997X-XiFv",
        "outputId": "b552ab4a-939c-4cdb-8536-451b4556a1bb"
      },
      "execution_count": 51,
      "outputs": [
        {
          "output_type": "execute_result",
          "data": {
            "text/plain": [
              "array([[7, 3],\n",
              "       [6, 6]])"
            ]
          },
          "metadata": {},
          "execution_count": 51
        }
      ]
    },
    {
      "cell_type": "code",
      "source": [
        "xT = [matrizT[0][0],matrizT[1][0]]\n",
        "yT = [matrizT[0][1],matrizT[1][1]]"
      ],
      "metadata": {
        "id": "5Trgp76kXwgB"
      },
      "execution_count": 52,
      "outputs": []
    },
    {
      "cell_type": "code",
      "source": [
        "plt.plot(x,y, color = \"blue\")\n",
        "plt.plot(xT,yT, color = \"red\")\n",
        "plt.show();"
      ],
      "metadata": {
        "colab": {
          "base_uri": "https://localhost:8080/",
          "height": 265
        },
        "id": "wPIz0x63X9hf",
        "outputId": "e575613f-f872-4618-bb13-37823b4d3cb1"
      },
      "execution_count": 53,
      "outputs": [
        {
          "output_type": "display_data",
          "data": {
            "text/plain": [
              "<Figure size 432x288 with 1 Axes>"
            ],
            "image/png": "[encoded data removed]"
          },
          "metadata": {
            "needs_background": "light"
          }
        }
      ]
    },
    {
      "cell_type": "markdown",
      "source": [
        "# **ROTAÇÃO**"
      ],
      "metadata": {
        "id": "LFlBagkUZUa_"
      }
    },
    {
      "cell_type": "code",
      "source": [
        "import numpy as np\n",
        "import matplotlib.pyplot as plt"
      ],
      "metadata": {
        "id": "ZrYg-6FnZZDv"
      },
      "execution_count": 54,
      "outputs": []
    },
    {
      "cell_type": "code",
      "source": [
        "#vetor que recebera a transformação"
      ],
      "metadata": {
        "id": "qdKKVPPyZhr3"
      },
      "execution_count": null,
      "outputs": []
    },
    {
      "cell_type": "code",
      "source": [
        "vetorR = np.array([[4],[1]])\n",
        "vetorR"
      ],
      "metadata": {
        "colab": {
          "base_uri": "https://localhost:8080/"
        },
        "id": "AS6g73ZaZmin",
        "outputId": "01e1122d-23b5-4a51-8418-e91413610c1c"
      },
      "execution_count": 55,
      "outputs": [
        {
          "output_type": "execute_result",
          "data": {
            "text/plain": [
              "array([[4],\n",
              "       [1]])"
            ]
          },
          "metadata": {},
          "execution_count": 55
        }
      ]
    },
    {
      "cell_type": "code",
      "source": [
        "#pi radiano = 180 graus\n",
        "#angulo de rotação(60 graus = pi/3 radianos)\n",
        "alfa = (np.pi/3)\n",
        "alfa"
      ],
      "metadata": {
        "colab": {
          "base_uri": "https://localhost:8080/"
        },
        "id": "RgUPpotUZtPA",
        "outputId": "526c162c-5347-411e-b947-356311ad67e6"
      },
      "execution_count": 79,
      "outputs": [
        {
          "output_type": "execute_result",
          "data": {
            "text/plain": [
              "1.0471975511965976"
            ]
          },
          "metadata": {},
          "execution_count": 79
        }
      ]
    },
    {
      "cell_type": "code",
      "source": [
        "T = np.array([[np.cos(alfa), (-np.sin(alfa))],\n",
        "              [np.sin(alfa), np.cos(alfa)]])\n",
        "T"
      ],
      "metadata": {
        "colab": {
          "base_uri": "https://localhost:8080/"
        },
        "id": "wK_XWG8Xa00i",
        "outputId": "4343522c-37e4-4692-cb44-36392905ebe6"
      },
      "execution_count": 86,
      "outputs": [
        {
          "output_type": "execute_result",
          "data": {
            "text/plain": [
              "array([[ 0.5      , -0.8660254],\n",
              "       [ 0.8660254,  0.5      ]])"
            ]
          },
          "metadata": {},
          "execution_count": 86
        }
      ]
    },
    {
      "cell_type": "code",
      "source": [
        "# cordenadas do vetor\n",
        "x = [0,vetorR[0]]\n",
        "y = [0,vetorR[1]]"
      ],
      "metadata": {
        "id": "dxGPZAuEbhr5"
      },
      "execution_count": 87,
      "outputs": []
    },
    {
      "cell_type": "code",
      "source": [
        "plt.plot(x,y, color = \"blue\")"
      ],
      "metadata": {
        "colab": {
          "base_uri": "https://localhost:8080/",
          "height": 283
        },
        "id": "RNYsTZsWb3Ew",
        "outputId": "097cb71e-f7a6-420f-dd87-c53ae287d420"
      },
      "execution_count": 88,
      "outputs": [
        {
          "output_type": "execute_result",
          "data": {
            "text/plain": [
              "[<matplotlib.lines.Line2D at 0x7f943f4ccdd0>]"
            ]
          },
          "metadata": {},
          "execution_count": 88
        },
        {
          "output_type": "display_data",
          "data": {
            "text/plain": [
              "<Figure size 432x288 with 1 Axes>"
            ],
            "image/png": "[encoded data removed]"
          },
          "metadata": {
            "needs_background": "light"
          }
        }
      ]
    },
    {
      "cell_type": "code",
      "source": [
        "# calculo para transformação\n",
        "matrizT = np.dot(T, vetorR)\n",
        "matrizT"
      ],
      "metadata": {
        "colab": {
          "base_uri": "https://localhost:8080/"
        },
        "id": "fNbeSuV0cOD8",
        "outputId": "c9685a7c-e02c-4a9f-b3fb-ece1529ade41"
      },
      "execution_count": 89,
      "outputs": [
        {
          "output_type": "execute_result",
          "data": {
            "text/plain": [
              "array([[1.1339746 ],\n",
              "       [3.96410162]])"
            ]
          },
          "metadata": {},
          "execution_count": 89
        }
      ]
    },
    {
      "cell_type": "code",
      "source": [
        "xT = [0,matrizT[0]]\n",
        "yT = [0,matrizT[1]]"
      ],
      "metadata": {
        "id": "8ckRAXKjcWu4"
      },
      "execution_count": 90,
      "outputs": []
    },
    {
      "cell_type": "code",
      "source": [
        "plt.plot(x,y, color = \"blue\")\n",
        "plt.plot(xT,yT, color = \"red\")\n",
        "plt.show();"
      ],
      "metadata": {
        "colab": {
          "base_uri": "https://localhost:8080/",
          "height": 265
        },
        "id": "pR9VExE4cny6",
        "outputId": "438277ac-0cb8-4c44-c50b-96532a565037"
      },
      "execution_count": 91,
      "outputs": [
        {
          "output_type": "display_data",
          "data": {
            "text/plain": [
              "<Figure size 432x288 with 1 Axes>"
            ],
            "image/png": "[encoded data removed]"
          },
          "metadata": {
            "needs_background": "light"
          }
        }
      ]
    },
    {
      "cell_type": "markdown",
      "source": [
        "# **REFLEXÃO**"
      ],
      "metadata": {
        "id": "_e0j-Htuedjw"
      }
    },
    {
      "cell_type": "code",
      "source": [
        "import numpy as np\n",
        "import matplotlib.pyplot as plt"
      ],
      "metadata": {
        "id": "VHSuLsMyeg-Z"
      },
      "execution_count": 92,
      "outputs": []
    },
    {
      "cell_type": "code",
      "source": [
        "#vetor que recebera a transformação\n",
        "vetorRe = np.array([[1],[3]])\n",
        "vetorRe"
      ],
      "metadata": {
        "colab": {
          "base_uri": "https://localhost:8080/"
        },
        "id": "NZKk4emwen1J",
        "outputId": "57d68a85-72a7-4862-e321-9f0f48b26542"
      },
      "execution_count": 93,
      "outputs": [
        {
          "output_type": "execute_result",
          "data": {
            "text/plain": [
              "array([[1],\n",
              "       [3]])"
            ]
          },
          "metadata": {},
          "execution_count": 93
        }
      ]
    },
    {
      "cell_type": "code",
      "source": [
        "#matriz de transformação"
      ],
      "metadata": {
        "id": "qEPn9A-7eyiZ"
      },
      "execution_count": null,
      "outputs": []
    },
    {
      "cell_type": "code",
      "source": [
        "T = np.array([[1,0],\n",
        "              [0,-1]])\n",
        "T"
      ],
      "metadata": {
        "colab": {
          "base_uri": "https://localhost:8080/"
        },
        "id": "RRz0lNj3e186",
        "outputId": "77147eb0-4b83-4c23-d00e-87944fef9961"
      },
      "execution_count": 106,
      "outputs": [
        {
          "output_type": "execute_result",
          "data": {
            "text/plain": [
              "array([[ 1,  0],\n",
              "       [ 0, -1]])"
            ]
          },
          "metadata": {},
          "execution_count": 106
        }
      ]
    },
    {
      "cell_type": "code",
      "source": [
        "#cordenadas do vetor\n",
        "x = [0,vetorRe[0]]\n",
        "y = [0,vetorRe[1]]"
      ],
      "metadata": {
        "id": "zq8Paktsk_kK"
      },
      "execution_count": 107,
      "outputs": []
    },
    {
      "cell_type": "code",
      "source": [
        "plt.plot(x,y, color = \"blue\");"
      ],
      "metadata": {
        "colab": {
          "base_uri": "https://localhost:8080/",
          "height": 265
        },
        "id": "mKbj8MrPlMOL",
        "outputId": "15eae9c1-2bfe-4c4a-aae8-54289949bc51"
      },
      "execution_count": 108,
      "outputs": [
        {
          "output_type": "display_data",
          "data": {
            "text/plain": [
              "<Figure size 432x288 with 1 Axes>"
            ],
            "image/png": "[encoded data removed]"
          },
          "metadata": {
            "needs_background": "light"
          }
        }
      ]
    },
    {
      "cell_type": "code",
      "source": [
        "#calculo para transformação\n",
        "matrizT = np.dot(T, vetorRe)\n",
        "matrizT"
      ],
      "metadata": {
        "colab": {
          "base_uri": "https://localhost:8080/"
        },
        "id": "XSkcqjHqlSyM",
        "outputId": "49c56bb8-84a6-416f-ca1b-a310e19dee0e"
      },
      "execution_count": 109,
      "outputs": [
        {
          "output_type": "execute_result",
          "data": {
            "text/plain": [
              "array([[ 1],\n",
              "       [-3]])"
            ]
          },
          "metadata": {},
          "execution_count": 109
        }
      ]
    },
    {
      "cell_type": "code",
      "source": [
        "xT = [0,matrizT[0]]\n",
        "yT = [0,matrizT[1]]"
      ],
      "metadata": {
        "id": "CiCSRQfDmB2Z"
      },
      "execution_count": 110,
      "outputs": []
    },
    {
      "cell_type": "code",
      "source": [
        "plt.plot(x,y, color = \"blue\")\n",
        "plt.plot(xT,yT, color = \"red\")"
      ],
      "metadata": {
        "colab": {
          "base_uri": "https://localhost:8080/",
          "height": 283
        },
        "id": "YC_TFPiVmQoO",
        "outputId": "e848a752-cfca-452c-b6b6-ca9c9c3d6c89"
      },
      "execution_count": 111,
      "outputs": [
        {
          "output_type": "execute_result",
          "data": {
            "text/plain": [
              "[<matplotlib.lines.Line2D at 0x7f943f264710>]"
            ]
          },
          "metadata": {},
          "execution_count": 111
        },
        {
          "output_type": "display_data",
          "data": {
            "text/plain": [
              "<Figure size 432x288 with 1 Axes>"
            ],
            "image/png": "[encoded data removed]"
          },
          "metadata": {
            "needs_background": "light"
          }
        }
      ]
    },
    {
      "cell_type": "markdown",
      "source": [
        "# **CISALHAMENTO**"
      ],
      "metadata": {
        "id": "GuCXInAToPuJ"
      }
    },
    {
      "cell_type": "code",
      "source": [
        "import numpy as np\n",
        "import matplotlib.pyplot as plt"
      ],
      "metadata": {
        "id": "_kDF-8A6oVik"
      },
      "execution_count": 112,
      "outputs": []
    },
    {
      "cell_type": "code",
      "source": [
        "#vetor que recebera a transformação\n",
        "vetorc = np.array([[2],[2]])\n",
        "vetorc"
      ],
      "metadata": {
        "colab": {
          "base_uri": "https://localhost:8080/"
        },
        "id": "n96zgQr5pGf8",
        "outputId": "81938586-9d09-4c1a-d18a-8e670fa030fa"
      },
      "execution_count": 113,
      "outputs": [
        {
          "output_type": "execute_result",
          "data": {
            "text/plain": [
              "array([[2],\n",
              "       [2]])"
            ]
          },
          "metadata": {},
          "execution_count": 113
        }
      ]
    },
    {
      "cell_type": "code",
      "source": [
        "#constante cisalhante\n",
        "k = 3"
      ],
      "metadata": {
        "id": "af5KnoYpplEO"
      },
      "execution_count": null,
      "outputs": []
    },
    {
      "cell_type": "markdown",
      "source": [
        "# ***EIXO X***"
      ],
      "metadata": {
        "id": "QIIaFAsfpss9"
      }
    },
    {
      "cell_type": "code",
      "source": [
        "# Matriz da transformação\n",
        "t = np.array([[1,k],\n",
        "              [0,1]])\n",
        "t"
      ],
      "metadata": {
        "colab": {
          "base_uri": "https://localhost:8080/"
        },
        "id": "_Y6W2rMYpxNV",
        "outputId": "6b102899-126a-4034-99bd-b11b8cc1ce67"
      },
      "execution_count": 114,
      "outputs": [
        {
          "output_type": "execute_result",
          "data": {
            "text/plain": [
              "array([[1, 3],\n",
              "       [0, 1]])"
            ]
          },
          "metadata": {},
          "execution_count": 114
        }
      ]
    },
    {
      "cell_type": "code",
      "source": [
        "# cordenadas do vetor\n",
        "x = [vetorc[0],vetorc[0]]\n",
        "y = [0,vetorc[1]]"
      ],
      "metadata": {
        "id": "sQIDsNsvp9_1"
      },
      "execution_count": 115,
      "outputs": []
    },
    {
      "cell_type": "code",
      "source": [
        "plt.plot(x,y, color = \"blue\");"
      ],
      "metadata": {
        "colab": {
          "base_uri": "https://localhost:8080/",
          "height": 321
        },
        "id": "o8efm3i-qOnZ",
        "outputId": "00a1a9eb-189b-47c2-b7dd-3b5631fcbc73"
      },
      "execution_count": 116,
      "outputs": [
        {
          "output_type": "stream",
          "name": "stderr",
          "text": [
            "/usr/local/lib/python3.7/dist-packages/numpy/core/shape_base.py:65: VisibleDeprecationWarning: Creating an ndarray from ragged nested sequences (which is a list-or-tuple of lists-or-tuples-or ndarrays with different lengths or shapes) is deprecated. If you meant to do this, you must specify 'dtype=object' when creating the ndarray.\n",
            "  ary = asanyarray(ary)\n"
          ]
        },
        {
          "output_type": "display_data",
          "data": {
            "text/plain": [
              "<Figure size 432x288 with 1 Axes>"
            ],
            "image/png": "[encoded data removed]"
          },
          "metadata": {
            "needs_background": "light"
          }
        }
      ]
    },
    {
      "cell_type": "code",
      "source": [
        "# calculo para transformação\n",
        "matrizT = np.dot(t, vetorc)\n",
        "matrizT"
      ],
      "metadata": {
        "colab": {
          "base_uri": "https://localhost:8080/"
        },
        "id": "_qxYCOlsrD5n",
        "outputId": "64056038-75f0-4064-d8be-455221968ff7"
      },
      "execution_count": 117,
      "outputs": [
        {
          "output_type": "execute_result",
          "data": {
            "text/plain": [
              "array([[8],\n",
              "       [2]])"
            ]
          },
          "metadata": {},
          "execution_count": 117
        }
      ]
    },
    {
      "cell_type": "code",
      "source": [
        "xt = [matrizT[1]+2, matrizT[0]]\n",
        "yt = [0,matrizT[1]]"
      ],
      "metadata": {
        "id": "w4HbX82nrPPN"
      },
      "execution_count": 125,
      "outputs": []
    },
    {
      "cell_type": "code",
      "source": [
        "plt.plot(x,y, color = \"blue\")\n",
        "plt.plot(xt,yt, color = \"red\")"
      ],
      "metadata": {
        "colab": {
          "base_uri": "https://localhost:8080/",
          "height": 283
        },
        "id": "m-X1J3yZrilV",
        "outputId": "f81a8790-1ffc-45aa-cbb4-53ecedbe3f9f"
      },
      "execution_count": 126,
      "outputs": [
        {
          "output_type": "execute_result",
          "data": {
            "text/plain": [
              "[<matplotlib.lines.Line2D at 0x7f943f060f50>]"
            ]
          },
          "metadata": {},
          "execution_count": 126
        },
        {
          "output_type": "display_data",
          "data": {
            "text/plain": [
              "<Figure size 432x288 with 1 Axes>"
            ],
            "image/png": "[encoded data removed]"
          },
          "metadata": {
            "needs_background": "light"
          }
        }
      ]
    },
    {
      "cell_type": "markdown",
      "source": [
        "# ***EIXO Y***"
      ],
      "metadata": {
        "id": "P3hjIPILtKaG"
      }
    },
    {
      "cell_type": "code",
      "source": [
        "# matriz de transformação\n",
        "t = np.array([[1,0],\n",
        "              [k,1]])\n",
        "t"
      ],
      "metadata": {
        "colab": {
          "base_uri": "https://localhost:8080/"
        },
        "id": "2Wnwqh4HtO7J",
        "outputId": "9ec5c6ac-a36b-4290-fd7e-40877f058a38"
      },
      "execution_count": 127,
      "outputs": [
        {
          "output_type": "execute_result",
          "data": {
            "text/plain": [
              "array([[1, 0],\n",
              "       [3, 1]])"
            ]
          },
          "metadata": {},
          "execution_count": 127
        }
      ]
    },
    {
      "cell_type": "code",
      "source": [
        "# cordenadas do vetor \n",
        "x = [0,vetorc[0]]\n",
        "y = [vetorc[1],vetorc[1]]"
      ],
      "metadata": {
        "id": "Z34WhrTFtZ6S"
      },
      "execution_count": 128,
      "outputs": []
    },
    {
      "cell_type": "code",
      "source": [
        "plt.plot(x,y, color = \"blue\");"
      ],
      "metadata": {
        "colab": {
          "base_uri": "https://localhost:8080/",
          "height": 321
        },
        "id": "yRm9st7ltxR2",
        "outputId": "44fd28c0-96c0-429a-bac6-e225872ab266"
      },
      "execution_count": 129,
      "outputs": [
        {
          "output_type": "stream",
          "name": "stderr",
          "text": [
            "/usr/local/lib/python3.7/dist-packages/numpy/core/shape_base.py:65: VisibleDeprecationWarning: Creating an ndarray from ragged nested sequences (which is a list-or-tuple of lists-or-tuples-or ndarrays with different lengths or shapes) is deprecated. If you meant to do this, you must specify 'dtype=object' when creating the ndarray.\n",
            "  ary = asanyarray(ary)\n"
          ]
        },
        {
          "output_type": "display_data",
          "data": {
            "text/plain": [
              "<Figure size 432x288 with 1 Axes>"
            ],
            "image/png": "[encoded data removed]"
          },
          "metadata": {
            "needs_background": "light"
          }
        }
      ]
    },
    {
      "cell_type": "code",
      "source": [
        "# calculo para transformação\n",
        "matrizT = np.dot(t,vetorc)\n",
        "matrizT"
      ],
      "metadata": {
        "colab": {
          "base_uri": "https://localhost:8080/"
        },
        "id": "c-30qhYIt4q4",
        "outputId": "6c1c2909-0825-4e08-8a57-9e7754e5a755"
      },
      "execution_count": 130,
      "outputs": [
        {
          "output_type": "execute_result",
          "data": {
            "text/plain": [
              "array([[2],\n",
              "       [8]])"
            ]
          },
          "metadata": {},
          "execution_count": 130
        }
      ]
    },
    {
      "cell_type": "code",
      "source": [
        "xt = [0,matrizT[0]]\n",
        "yt = [matrizT[0],matrizT[1]]"
      ],
      "metadata": {
        "id": "KsjRJSnZuJae"
      },
      "execution_count": 131,
      "outputs": []
    },
    {
      "cell_type": "code",
      "source": [
        "plt.plot(x,y, color = \"blue\")\n",
        "plt.plot(xt,yt, color = \"red\")\n"
      ],
      "metadata": {
        "colab": {
          "base_uri": "https://localhost:8080/",
          "height": 339
        },
        "id": "-asd1SrSuVxW",
        "outputId": "ee63df45-2b6e-47a1-ab07-b7ad8875f9b3"
      },
      "execution_count": 132,
      "outputs": [
        {
          "output_type": "stream",
          "name": "stderr",
          "text": [
            "/usr/local/lib/python3.7/dist-packages/numpy/core/shape_base.py:65: VisibleDeprecationWarning: Creating an ndarray from ragged nested sequences (which is a list-or-tuple of lists-or-tuples-or ndarrays with different lengths or shapes) is deprecated. If you meant to do this, you must specify 'dtype=object' when creating the ndarray.\n",
            "  ary = asanyarray(ary)\n"
          ]
        },
        {
          "output_type": "execute_result",
          "data": {
            "text/plain": [
              "[<matplotlib.lines.Line2D at 0x7f943f60a290>]"
            ]
          },
          "metadata": {},
          "execution_count": 132
        },
        {
          "output_type": "display_data",
          "data": {
            "text/plain": [
              "<Figure size 432x288 with 1 Axes>"
            ],
            "image/png": "[encoded data removed]"
          },
          "metadata": {
            "needs_background": "light"
          }
        }
      ]
    },
    {
      "cell_type": "markdown",
      "source": [
        "# **ALONGAMENTO E CONTRAÇÃO**"
      ],
      "metadata": {
        "id": "vBIpHHUR1es3"
      }
    },
    {
      "cell_type": "code",
      "source": [
        "import numpy as np\n",
        "import matplotlib.pyplot as plt\n"
      ],
      "metadata": {
        "id": "grrHjZbE1k6g"
      },
      "execution_count": 147,
      "outputs": []
    },
    {
      "cell_type": "code",
      "source": [
        "#vetor no qual ira receber a transformação \n",
        "vetorA = np.array([[4],[2]])\n",
        "vetorA"
      ],
      "metadata": {
        "colab": {
          "base_uri": "https://localhost:8080/"
        },
        "id": "-hiXfEpQ1qcY",
        "outputId": "0c298fa7-49d5-4f51-f1c3-3a1bad679cb7"
      },
      "execution_count": 148,
      "outputs": [
        {
          "output_type": "execute_result",
          "data": {
            "text/plain": [
              "array([[4],\n",
              "       [2]])"
            ]
          },
          "metadata": {},
          "execution_count": 148
        }
      ]
    },
    {
      "cell_type": "code",
      "source": [
        "# constante:\n",
        "# alongamento: k > 1\n",
        "# contração: 0 < k < 1\n",
        "k = 2 "
      ],
      "metadata": {
        "id": "WAbRzdNG2LfJ"
      },
      "execution_count": 149,
      "outputs": []
    },
    {
      "cell_type": "markdown",
      "source": [
        "# ***EIXO X***"
      ],
      "metadata": {
        "id": "JVsVklET2bTv"
      }
    },
    {
      "cell_type": "code",
      "source": [
        "# Matriz de transformação\n",
        "t = np.array([[k,0],\n",
        "              [0,1]])\n",
        "t"
      ],
      "metadata": {
        "colab": {
          "base_uri": "https://localhost:8080/"
        },
        "id": "hdd9aAWL2ipo",
        "outputId": "57c6c2c1-2b75-4ac1-c56b-a15412e17315"
      },
      "execution_count": 150,
      "outputs": [
        {
          "output_type": "execute_result",
          "data": {
            "text/plain": [
              "array([[2, 0],\n",
              "       [0, 1]])"
            ]
          },
          "metadata": {},
          "execution_count": 150
        }
      ]
    },
    {
      "cell_type": "code",
      "source": [
        "# Coordenadas do vetor\n",
        "x = [0,vetorA[0]]\n",
        "y = [vetorA[1],vetorA[1]]"
      ],
      "metadata": {
        "id": "n7c3Srmn20H5"
      },
      "execution_count": 151,
      "outputs": []
    },
    {
      "cell_type": "code",
      "source": [
        "plt.plot(x,y, color=\"blue\")"
      ],
      "metadata": {
        "colab": {
          "base_uri": "https://localhost:8080/",
          "height": 283
        },
        "id": "wNaLU_rF24lZ",
        "outputId": "835ca8cd-2f97-480a-d941-43d9b4868c74"
      },
      "execution_count": 152,
      "outputs": [
        {
          "output_type": "execute_result",
          "data": {
            "text/plain": [
              "[<matplotlib.lines.Line2D at 0x7f943efaadd0>]"
            ]
          },
          "metadata": {},
          "execution_count": 152
        },
        {
          "output_type": "display_data",
          "data": {
            "text/plain": [
              "<Figure size 432x288 with 1 Axes>"
            ],
            "image/png": "[encoded data removed]"
          },
          "metadata": {
            "needs_background": "light"
          }
        }
      ]
    },
    {
      "cell_type": "code",
      "source": [
        "# Cálculo para transformação\n",
        "matrizT = np.dot(t, vetorA)\n",
        "matrizT"
      ],
      "metadata": {
        "colab": {
          "base_uri": "https://localhost:8080/"
        },
        "id": "n-4I2sf43Pdp",
        "outputId": "f7646beb-a865-4c3c-ec20-6c235b7382f3"
      },
      "execution_count": 155,
      "outputs": [
        {
          "output_type": "execute_result",
          "data": {
            "text/plain": [
              "array([[8],\n",
              "       [2]])"
            ]
          },
          "metadata": {},
          "execution_count": 155
        }
      ]
    },
    {
      "cell_type": "code",
      "source": [
        "xt = [0+6,matrizT[0]+6]\n",
        "yt = [matrizT[1],matrizT[1]]"
      ],
      "metadata": {
        "id": "Nwm1GTMY3RfB"
      },
      "execution_count": 157,
      "outputs": []
    },
    {
      "cell_type": "code",
      "source": [
        "plt.plot(x, y, color = \"blue\")\n",
        "plt.plot(xt, yt, color = \"red\");"
      ],
      "metadata": {
        "colab": {
          "base_uri": "https://localhost:8080/",
          "height": 265
        },
        "id": "9pK51lIS3qnp",
        "outputId": "bf5ef1e0-dbb8-446a-901f-bd1e05b11d68"
      },
      "execution_count": 158,
      "outputs": [
        {
          "output_type": "display_data",
          "data": {
            "text/plain": [
              "<Figure size 432x288 with 1 Axes>"
            ],
            "image/png": "[encoded data removed]"
          },
          "metadata": {
            "needs_background": "light"
          }
        }
      ]
    },
    {
      "cell_type": "markdown",
      "source": [
        "# **EIXO Y**"
      ],
      "metadata": {
        "id": "Bv-4N_J05kiK"
      }
    },
    {
      "cell_type": "code",
      "source": [
        "# Matriz de transformação\n",
        "T = np.array([[1, 0],\n",
        "              [0, k]])\n",
        "T"
      ],
      "metadata": {
        "colab": {
          "base_uri": "https://localhost:8080/"
        },
        "id": "2kXzarOD5oya",
        "outputId": "cc3108eb-0d32-4e67-c7a7-cc832de3d83d"
      },
      "execution_count": 159,
      "outputs": [
        {
          "output_type": "execute_result",
          "data": {
            "text/plain": [
              "array([[1, 0],\n",
              "       [0, 2]])"
            ]
          },
          "metadata": {},
          "execution_count": 159
        }
      ]
    },
    {
      "cell_type": "code",
      "source": [
        "# Coordenadas do vetor\n",
        "x = [vetorA[0],vetorA[0]]\n",
        "y = [0,vetorA[1]]"
      ],
      "metadata": {
        "id": "c0saSHRE5r7y"
      },
      "execution_count": 160,
      "outputs": []
    },
    {
      "cell_type": "code",
      "source": [
        "plt.plot(x, y, color = \"blue\");"
      ],
      "metadata": {
        "colab": {
          "base_uri": "https://localhost:8080/",
          "height": 265
        },
        "id": "HlyScsBz5uRq",
        "outputId": "28f00349-c61e-4609-fad4-21b6e112c6e9"
      },
      "execution_count": 161,
      "outputs": [
        {
          "output_type": "display_data",
          "data": {
            "text/plain": [
              "<Figure size 432x288 with 1 Axes>"
            ],
            "image/png": "[encoded data removed]"
          },
          "metadata": {
            "needs_background": "light"
          }
        }
      ]
    },
    {
      "cell_type": "code",
      "source": [
        "# Cálculo para transformação\n",
        "matrizT = np.dot(T, vetorA)\n",
        "matrizT"
      ],
      "metadata": {
        "colab": {
          "base_uri": "https://localhost:8080/"
        },
        "id": "ZSfWIVLL5wUb",
        "outputId": "21eac5a1-aa3d-47d3-d94a-70912bf21c93"
      },
      "execution_count": 162,
      "outputs": [
        {
          "output_type": "execute_result",
          "data": {
            "text/plain": [
              "array([[4],\n",
              "       [4]])"
            ]
          },
          "metadata": {},
          "execution_count": 162
        }
      ]
    },
    {
      "cell_type": "code",
      "source": [
        "xT = [matrizT[0],matrizT[0]]\n",
        "yT = [0+4,matrizT[1]+4]"
      ],
      "metadata": {
        "id": "C2AJMUzJ51Fq"
      },
      "execution_count": 164,
      "outputs": []
    },
    {
      "cell_type": "code",
      "source": [
        "plt.plot(x, y, color = \"blue\")\n",
        "plt.plot(xT, yT, color = \"red\");"
      ],
      "metadata": {
        "colab": {
          "base_uri": "https://localhost:8080/",
          "height": 265
        },
        "id": "5qlUYbxf53B5",
        "outputId": "e9fd83ef-2ccf-4902-f358-0fe17727f529"
      },
      "execution_count": 165,
      "outputs": [
        {
          "output_type": "display_data",
          "data": {
            "text/plain": [
              "<Figure size 432x288 with 1 Axes>"
            ],
            "image/png": "[encoded data removed]"
          },
          "metadata": {
            "needs_background": "light"
          }
        }
      ]
    }
  ]
}