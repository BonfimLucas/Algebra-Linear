{
  "nbformat": 4,
  "nbformat_minor": 0,
  "metadata": {
    "colab": {
      "provenance": []
    },
    "kernelspec": {
      "name": "python3",
      "display_name": "Python 3"
    },
    "language_info": {
      "name": "python"
    }
  },
  "cells": [
    {
      "cell_type": "code",
      "execution_count": 2,
      "metadata": {
        "id": "QGHJMW9-_2nH"
      },
      "outputs": [],
      "source": [
        "import numpy as np\n"
      ]
    },
    {
      "cell_type": "code",
      "source": [
        "a = np.array([[3,0],\n",
        "              [0,1]])\n",
        "a"
      ],
      "metadata": {
        "colab": {
          "base_uri": "https://localhost:8080/"
        },
        "id": "LrmZ6L7VAL0G",
        "outputId": "e5d3f872-19cd-452c-90d6-0a919abdd2f8"
      },
      "execution_count": 3,
      "outputs": [
        {
          "output_type": "execute_result",
          "data": {
            "text/plain": [
              "array([[3, 0],\n",
              "       [0, 1]])"
            ]
          },
          "metadata": {},
          "execution_count": 3
        }
      ]
    },
    {
      "cell_type": "code",
      "source": [
        "autovalor, autovetor = np.linalg.eig(a)"
      ],
      "metadata": {
        "id": "qPuPCR_DAgyc"
      },
      "execution_count": 4,
      "outputs": []
    },
    {
      "cell_type": "code",
      "source": [
        "autovalor"
      ],
      "metadata": {
        "colab": {
          "base_uri": "https://localhost:8080/"
        },
        "id": "etrMzQaZAmol",
        "outputId": "d489a987-7bcf-442b-9644-8ad4e1505013"
      },
      "execution_count": 5,
      "outputs": [
        {
          "output_type": "execute_result",
          "data": {
            "text/plain": [
              "array([3., 1.])"
            ]
          },
          "metadata": {},
          "execution_count": 5
        }
      ]
    },
    {
      "cell_type": "code",
      "source": [
        "autovetor"
      ],
      "metadata": {
        "colab": {
          "base_uri": "https://localhost:8080/"
        },
        "id": "OJhTC9DPAqHl",
        "outputId": "7044812e-2b3b-47f6-971b-91844047e764"
      },
      "execution_count": 6,
      "outputs": [
        {
          "output_type": "execute_result",
          "data": {
            "text/plain": [
              "array([[1., 0.],\n",
              "       [0., 1.]])"
            ]
          },
          "metadata": {},
          "execution_count": 6
        }
      ]
    },
    {
      "cell_type": "code",
      "source": [
        "print('O autovalor {:.3f} está associado aos autovetores {:.3f} e {:.3f}'.format(autovalor[0],autovetor[0][0],autovetor[1][0]))\n",
        "print('O autovalor {:.3f} está associado aos autovetores {:.3f} e {:.3f}'.format(autovalor[1],autovetor[0][1],autovetor[1][1]))"
      ],
      "metadata": {
        "colab": {
          "base_uri": "https://localhost:8080/"
        },
        "id": "NN1j2tcKBh6r",
        "outputId": "58c39121-b695-4c08-f4d6-2b8235f12a08"
      },
      "execution_count": 11,
      "outputs": [
        {
          "output_type": "stream",
          "name": "stdout",
          "text": [
            "O autovalor 2.000 está associado aos autovetores 0.832 e 0.555\n",
            "O autovalor 1.000 está associado aos autovetores 0.707 e 0.707\n"
          ]
        }
      ]
    },
    {
      "cell_type": "code",
      "source": [
        "b = np.array([[4,-3],\n",
        "              [2,-1]])"
      ],
      "metadata": {
        "id": "y6HLaFlqCMqP"
      },
      "execution_count": 12,
      "outputs": []
    },
    {
      "cell_type": "code",
      "source": [
        "autovalor, autovetor = np.linalg.eig(b)\n",
        "print('O autovalor {:.3f} está associado aos autovetores {:.3f} e {:.3f}'.format(autovalor[0],autovetor[0][0],autovetor[1][0]))\n",
        "print('O autovalor {:.3f} está associado aos autovetores {:.3f} e {:.3f}'.format(autovalor[1],autovetor[0][1],autovetor[1][1]))"
      ],
      "metadata": {
        "colab": {
          "base_uri": "https://localhost:8080/"
        },
        "id": "d-lyHgpHCVsk",
        "outputId": "c0306a25-b205-4430-c6bf-20a5176c9bf6"
      },
      "execution_count": 13,
      "outputs": [
        {
          "output_type": "stream",
          "name": "stdout",
          "text": [
            "O autovalor 2.000 está associado aos autovetores 0.832 e 0.555\n",
            "O autovalor 1.000 está associado aos autovetores 0.707 e 0.707\n"
          ]
        }
      ]
    }
  ]
}