{
  "nbformat": 4,
  "nbformat_minor": 0,
  "metadata": {
    "colab": {
      "provenance": [],
      "collapsed_sections": [],
      "toc_visible": true
    },
    "kernelspec": {
      "name": "python3",
      "display_name": "Python 3"
    },
    "language_info": {
      "name": "python"
    }
  },
  "cells": [
    {
      "cell_type": "markdown",
      "source": [
        "# **CÁLCULO COM VETORES**\n"
      ],
      "metadata": {
        "id": "VQiRtDnmsAg0"
      }
    },
    {
      "cell_type": "code",
      "source": [
        "import numpy as np\n",
        "\n",
        "u = [2,-4,1]\n",
        "\n"
      ],
      "metadata": {
        "id": "23aOIN-WseFU"
      },
      "execution_count": 4,
      "outputs": []
    },
    {
      "cell_type": "code",
      "source": [
        "u = np.array(u)"
      ],
      "metadata": {
        "id": "-B14U2GQtTEs"
      },
      "execution_count": 5,
      "outputs": []
    },
    {
      "cell_type": "code",
      "source": [
        "type(u)"
      ],
      "metadata": {
        "colab": {
          "base_uri": "https://localhost:8080/"
        },
        "id": "FvPQtwjNtW23",
        "outputId": "5116d3f0-19a4-442d-a7fe-f36f7c1431a5"
      },
      "execution_count": 6,
      "outputs": [
        {
          "output_type": "execute_result",
          "data": {
            "text/plain": [
              "numpy.ndarray"
            ]
          },
          "metadata": {},
          "execution_count": 6
        }
      ]
    },
    {
      "cell_type": "code",
      "source": [
        "u.shape"
      ],
      "metadata": {
        "colab": {
          "base_uri": "https://localhost:8080/"
        },
        "id": "tXEYVN9ptgBG",
        "outputId": "0ed9a38d-2a65-4407-f3ca-9b8fc07b7f2f"
      },
      "execution_count": 7,
      "outputs": [
        {
          "output_type": "execute_result",
          "data": {
            "text/plain": [
              "(3,)"
            ]
          },
          "metadata": {},
          "execution_count": 7
        }
      ]
    },
    {
      "cell_type": "code",
      "source": [
        "v = np.array([3,2,-5])"
      ],
      "metadata": {
        "id": "ISt2EjGVtwH1"
      },
      "execution_count": 8,
      "outputs": []
    },
    {
      "cell_type": "markdown",
      "source": [],
      "metadata": {
        "id": "cHpMwURKu4Gs"
      }
    },
    {
      "cell_type": "markdown",
      "source": [
        "#**SOMA DE VETORES**"
      ],
      "metadata": {
        "id": "mdJPcI6mvPV1"
      }
    },
    {
      "cell_type": "code",
      "source": [
        "print(u)"
      ],
      "metadata": {
        "colab": {
          "base_uri": "https://localhost:8080/"
        },
        "id": "P44K2er5vZSt",
        "outputId": "c918cedf-0b92-43f9-8fc5-2f8356b1397a"
      },
      "execution_count": 9,
      "outputs": [
        {
          "output_type": "stream",
          "name": "stdout",
          "text": [
            "[ 2 -4  1]\n"
          ]
        }
      ]
    },
    {
      "cell_type": "code",
      "source": [
        "print(v)"
      ],
      "metadata": {
        "colab": {
          "base_uri": "https://localhost:8080/"
        },
        "id": "s9aj4SncvegN",
        "outputId": "c8a0592f-0361-4958-ef90-e2a8ccd376f3"
      },
      "execution_count": 10,
      "outputs": [
        {
          "output_type": "stream",
          "name": "stdout",
          "text": [
            "[ 3  2 -5]\n"
          ]
        }
      ]
    },
    {
      "cell_type": "code",
      "source": [
        "soma = u + v\n",
        "print(soma)"
      ],
      "metadata": {
        "colab": {
          "base_uri": "https://localhost:8080/"
        },
        "id": "O0iuwurwvkCX",
        "outputId": "a073d379-8186-4692-e9c9-5b38d8af1d9e"
      },
      "execution_count": 11,
      "outputs": [
        {
          "output_type": "stream",
          "name": "stdout",
          "text": [
            "[ 5 -2 -4]\n"
          ]
        }
      ]
    },
    {
      "cell_type": "markdown",
      "source": [
        "# **PRODUTO INTERNO**"
      ],
      "metadata": {
        "id": "j3rwWMeav1od"
      }
    },
    {
      "cell_type": "code",
      "source": [
        "u * v"
      ],
      "metadata": {
        "colab": {
          "base_uri": "https://localhost:8080/"
        },
        "id": "KNz5kqeYwA6_",
        "outputId": "00fb6537-32eb-4396-fcc2-7a0cc3cf2329"
      },
      "execution_count": 12,
      "outputs": [
        {
          "output_type": "execute_result",
          "data": {
            "text/plain": [
              "array([ 6, -8, -5])"
            ]
          },
          "metadata": {},
          "execution_count": 12
        }
      ]
    },
    {
      "cell_type": "code",
      "source": [
        "prod_inter = 0\n",
        "for i in range(len(u)):\n",
        "  prod_inter = prod_inter + u[i] * v[i]\n",
        "  i = i + 1\n",
        "\n",
        "prod_inter"
      ],
      "metadata": {
        "colab": {
          "base_uri": "https://localhost:8080/"
        },
        "id": "M53xA_9owY8F",
        "outputId": "14ebd5fb-72e0-4e11-86b6-5c4001b98c37"
      },
      "execution_count": 13,
      "outputs": [
        {
          "output_type": "execute_result",
          "data": {
            "text/plain": [
              "-7"
            ]
          },
          "metadata": {},
          "execution_count": 13
        }
      ]
    },
    {
      "cell_type": "markdown",
      "source": [
        "# **MULTIPLICAÇÃO ESCALAR**"
      ],
      "metadata": {
        "id": "wUVVLq8ZxlYL"
      }
    },
    {
      "cell_type": "code",
      "source": [
        "print(u)\n",
        "print(v)"
      ],
      "metadata": {
        "colab": {
          "base_uri": "https://localhost:8080/"
        },
        "id": "Aa-5E9cox2I-",
        "outputId": "16a1cbb8-3edb-4563-dc8d-9b11832379c0"
      },
      "execution_count": 18,
      "outputs": [
        {
          "output_type": "stream",
          "name": "stdout",
          "text": [
            "[ 2 -4  1]\n",
            "[ 3  2 -5]\n"
          ]
        }
      ]
    },
    {
      "cell_type": "code",
      "source": [
        "multi = 5*u\n",
        "multi"
      ],
      "metadata": {
        "colab": {
          "base_uri": "https://localhost:8080/"
        },
        "id": "0Y4Kt19AxqpX",
        "outputId": "dfa73d0d-658c-43da-ae78-238d828a3ec3"
      },
      "execution_count": 14,
      "outputs": [
        {
          "output_type": "execute_result",
          "data": {
            "text/plain": [
              "array([ 10, -20,   5])"
            ]
          },
          "metadata": {},
          "execution_count": 14
        }
      ]
    },
    {
      "cell_type": "code",
      "source": [
        "multi2 = 5*v\n",
        "multi2"
      ],
      "metadata": {
        "colab": {
          "base_uri": "https://localhost:8080/"
        },
        "id": "8f0yxP7Bx-9Y",
        "outputId": "36c852eb-928a-4c9f-cf83-d01cede7a7a6"
      },
      "execution_count": 16,
      "outputs": [
        {
          "output_type": "execute_result",
          "data": {
            "text/plain": [
              "array([ 15,  10, -25])"
            ]
          },
          "metadata": {},
          "execution_count": 16
        }
      ]
    }
  ]
}