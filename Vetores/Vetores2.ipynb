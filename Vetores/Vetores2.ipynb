{
  "nbformat": 4,
  "nbformat_minor": 0,
  "metadata": {
    "colab": {
      "provenance": [],
      "toc_visible": true
    },
    "kernelspec": {
      "name": "python3",
      "display_name": "Python 3"
    },
    "language_info": {
      "name": "python"
    }
  },
  "cells": [
    {
      "cell_type": "markdown",
      "source": [
        "# **DISTÂNCIA ENTRE VETORES**"
      ],
      "metadata": {
        "id": "2qF9gSID0KLe"
      }
    },
    {
      "cell_type": "code",
      "source": [
        "import numpy as np\n",
        "u = [2,-4,1]\n",
        "v = [3, 2, -5]\n",
        "\n",
        "u = np.array(u)\n",
        "v = np.array(v)"
      ],
      "metadata": {
        "id": "BcymerMw0QNm"
      },
      "execution_count": null,
      "outputs": []
    },
    {
      "cell_type": "code",
      "source": [
        "u"
      ],
      "metadata": {
        "colab": {
          "base_uri": "https://localhost:8080/"
        },
        "id": "ry5OsMr80wxP",
        "outputId": "3a93911c-4005-44d9-97dc-1da6f02bdb08"
      },
      "execution_count": null,
      "outputs": [
        {
          "output_type": "execute_result",
          "data": {
            "text/plain": [
              "array([ 2, -4,  1])"
            ]
          },
          "metadata": {},
          "execution_count": 2
        }
      ]
    },
    {
      "cell_type": "code",
      "source": [
        "v"
      ],
      "metadata": {
        "colab": {
          "base_uri": "https://localhost:8080/"
        },
        "id": "90-9PMXk0ziP",
        "outputId": "8121b9af-3330-42b1-8769-0444bacfe161"
      },
      "execution_count": null,
      "outputs": [
        {
          "output_type": "execute_result",
          "data": {
            "text/plain": [
              "array([ 3,  2, -5])"
            ]
          },
          "metadata": {},
          "execution_count": 3
        }
      ]
    },
    {
      "cell_type": "code",
      "source": [
        "def dist (vetor1, vetor2):\n",
        "  soma_quad = 0\n",
        "  for i in range(len(u)):\n",
        "    soma_quad = soma_quad+(u[i] - v[i]) ** 2\n",
        "    i = i + 1\n",
        "  dist = soma_quad**(1/2)\n",
        "  print(f'A distância entre os vetores é igual a {dist:.2f}')"
      ],
      "metadata": {
        "id": "uREwu5ho03SR"
      },
      "execution_count": null,
      "outputs": []
    },
    {
      "cell_type": "code",
      "source": [
        "dist(u,v)"
      ],
      "metadata": {
        "colab": {
          "base_uri": "https://localhost:8080/"
        },
        "id": "zbZlFmsN3cRI",
        "outputId": "0ac40fad-4f15-4159-9716-6c8dad131e58"
      },
      "execution_count": null,
      "outputs": [
        {
          "output_type": "stream",
          "name": "stdout",
          "text": [
            "A distância entre os vetores é igual a 8.54\n"
          ]
        }
      ]
    },
    {
      "cell_type": "markdown",
      "source": [
        "# **NORMA**"
      ],
      "metadata": {
        "id": "tDqopwXQ3iUP"
      }
    },
    {
      "cell_type": "code",
      "source": [
        "np.linalg.norm(u)\n"
      ],
      "metadata": {
        "colab": {
          "base_uri": "https://localhost:8080/"
        },
        "id": "rfofWFG03pGZ",
        "outputId": "27949b26-232b-416d-9a11-f26d6d7b3d1e"
      },
      "execution_count": null,
      "outputs": [
        {
          "output_type": "execute_result",
          "data": {
            "text/plain": [
              "4.58257569495584"
            ]
          },
          "metadata": {},
          "execution_count": 19
        }
      ]
    },
    {
      "cell_type": "code",
      "source": [
        "np.linalg.norm(v)"
      ],
      "metadata": {
        "colab": {
          "base_uri": "https://localhost:8080/"
        },
        "id": "Fm5mPpK24Dgw",
        "outputId": "3f9c1850-1ac7-4f55-ab73-4d47a8921e56"
      },
      "execution_count": null,
      "outputs": [
        {
          "output_type": "execute_result",
          "data": {
            "text/plain": [
              "6.164414002968976"
            ]
          },
          "metadata": {},
          "execution_count": 20
        }
      ]
    },
    {
      "cell_type": "code",
      "source": [
        "w = np.array([2,4,6,8,10,12])\n",
        "w"
      ],
      "metadata": {
        "colab": {
          "base_uri": "https://localhost:8080/"
        },
        "id": "UfAkH2TV4RP6",
        "outputId": "79009afe-1909-47c3-e91b-66af4ed9935d"
      },
      "execution_count": null,
      "outputs": [
        {
          "output_type": "execute_result",
          "data": {
            "text/plain": [
              "array([ 2,  4,  6,  8, 10, 12])"
            ]
          },
          "metadata": {},
          "execution_count": 21
        }
      ]
    },
    {
      "cell_type": "code",
      "source": [
        "np.linalg.norm(w)"
      ],
      "metadata": {
        "colab": {
          "base_uri": "https://localhost:8080/"
        },
        "id": "OEr2Njzz4Yig",
        "outputId": "c3fdc5b6-6102-462c-d63c-835276616332"
      },
      "execution_count": null,
      "outputs": [
        {
          "output_type": "execute_result",
          "data": {
            "text/plain": [
              "19.078784028338912"
            ]
          },
          "metadata": {},
          "execution_count": 22
        }
      ]
    },
    {
      "cell_type": "markdown",
      "source": [
        "# **REPRESENTAÇÃO GEOMÉTRICA**"
      ],
      "metadata": {
        "id": "lgGKhwxV43VX"
      }
    },
    {
      "cell_type": "code",
      "source": [
        "import matplotlib.pyplot as plt"
      ],
      "metadata": {
        "id": "rdUSROn749uA"
      },
      "execution_count": null,
      "outputs": []
    },
    {
      "cell_type": "code",
      "source": [
        "l = np.array([4,5])\n",
        "b = np.array([-2,5])\n"
      ],
      "metadata": {
        "id": "-T8ttapY5FkH"
      },
      "execution_count": 25,
      "outputs": []
    },
    {
      "cell_type": "code",
      "source": [
        "soma = []\n",
        "for i in range (len(l)):\n",
        "  soma.append (l[i] + b[i])\n",
        "  i = i + 1\n",
        "print(soma)"
      ],
      "metadata": {
        "colab": {
          "base_uri": "https://localhost:8080/"
        },
        "id": "u5Qw71Vc58ui",
        "outputId": "b9500a07-6be7-4a18-ef6e-0eeaeebafbe4"
      },
      "execution_count": 26,
      "outputs": [
        {
          "output_type": "stream",
          "name": "stdout",
          "text": [
            "[2, 10]\n"
          ]
        }
      ]
    },
    {
      "cell_type": "code",
      "source": [
        "v = np.array([l, b, soma])\n",
        "origin = np.array([[0, 0, 0], [0, 0, 0]])\n",
        "\n",
        "plt.quiver(*origin, v[:,0], v[:,1], color = ['r','b','y'], scale=35)\n",
        "plt.show();"
      ],
      "metadata": {
        "colab": {
          "base_uri": "https://localhost:8080/",
          "height": 265
        },
        "id": "kKrLxZAf6rV5",
        "outputId": "f2fdbe76-cfdf-49c5-867b-578ec2b75036"
      },
      "execution_count": 30,
      "outputs": [
        {
          "output_type": "display_data",
          "data": {
            "text/plain": [
              "<Figure size 432x288 with 1 Axes>"
            ],
            "image/png": "[encoded data removed]"
          },
          "metadata": {
            "needs_background": "light"
          }
        }
      ]
    }
  ]
}