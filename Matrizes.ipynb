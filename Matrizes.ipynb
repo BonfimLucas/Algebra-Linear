{
  "cells": [
    {
      "cell_type": "markdown",
      "source": [
        "# ***CRIAÇÃO DE MATRIZES***"
      ],
      "metadata": {
        "id": "7P0ULAKCvr7Q"
      }
    },
    {
      "cell_type": "code",
      "source": [
        "import numpy as np"
      ],
      "metadata": {
        "id": "HZ-eJy0tvwsg"
      },
      "execution_count": null,
      "outputs": []
    },
    {
      "cell_type": "code",
      "source": [
        "m = [[1,-2,3],\n",
        "     [-4,5,6],\n",
        "     [7,8,-9]]\n",
        "\n",
        "matrix = np.array(m)\n",
        "matrix"
      ],
      "metadata": {
        "colab": {
          "base_uri": "https://localhost:8080/"
        },
        "id": "bA2L80kFv3ft",
        "outputId": "94a285f1-6530-404b-fe2b-b417b208df3e"
      },
      "execution_count": null,
      "outputs": [
        {
          "output_type": "execute_result",
          "data": {
            "text/plain": [
              "array([[ 1, -2,  3],\n",
              "       [-4,  5,  6],\n",
              "       [ 7,  8, -9]])"
            ]
          },
          "metadata": {},
          "execution_count": 16
        }
      ]
    },
    {
      "cell_type": "markdown",
      "source": [
        "# ***MATRIZ COM SOMENTE UM NUMERO***\n"
      ],
      "metadata": {
        "id": "c9tFttnjwix_"
      }
    },
    {
      "cell_type": "code",
      "source": [
        "matrix2 = np.ones([2,3])\n",
        "matrix2"
      ],
      "metadata": {
        "colab": {
          "base_uri": "https://localhost:8080/"
        },
        "id": "-W0oSwplwtqM",
        "outputId": "c57d7cfa-bbf2-40b3-8f21-fd06f44e3a0f"
      },
      "execution_count": null,
      "outputs": [
        {
          "output_type": "execute_result",
          "data": {
            "text/plain": [
              "array([[1., 1., 1.],\n",
              "       [1., 1., 1.]])"
            ]
          },
          "metadata": {},
          "execution_count": 17
        }
      ]
    },
    {
      "cell_type": "markdown",
      "source": [
        "# ***MATRIZ NULA***"
      ],
      "metadata": {
        "id": "Cy_pbPK3xJMo"
      }
    },
    {
      "cell_type": "code",
      "source": [
        "matrix3 = np.zeros([5,2])\n",
        "matrix3"
      ],
      "metadata": {
        "colab": {
          "base_uri": "https://localhost:8080/"
        },
        "id": "HNrRUW9vxQ3U",
        "outputId": "e29eb084-1d52-4c2c-d88d-67827432d099"
      },
      "execution_count": null,
      "outputs": [
        {
          "output_type": "execute_result",
          "data": {
            "text/plain": [
              "array([[0., 0.],\n",
              "       [0., 0.],\n",
              "       [0., 0.],\n",
              "       [0., 0.],\n",
              "       [0., 0.]])"
            ]
          },
          "metadata": {},
          "execution_count": 19
        }
      ]
    },
    {
      "cell_type": "markdown",
      "source": [
        "# ***MATRIZ DIAGONAL***"
      ],
      "metadata": {
        "id": "y04cZ_XryOA1"
      }
    },
    {
      "cell_type": "code",
      "source": [
        "Matrix4 = np.diag([2,4,6,8])\n",
        "Matrix4"
      ],
      "metadata": {
        "colab": {
          "base_uri": "https://localhost:8080/"
        },
        "id": "SapHeIBGyRhj",
        "outputId": "998c1d1b-5ed3-4eff-c462-7daccc47aa30"
      },
      "execution_count": null,
      "outputs": [
        {
          "output_type": "execute_result",
          "data": {
            "text/plain": [
              "array([[2, 0, 0, 0],\n",
              "       [0, 4, 0, 0],\n",
              "       [0, 0, 6, 0],\n",
              "       [0, 0, 0, 8]])"
            ]
          },
          "metadata": {},
          "execution_count": 21
        }
      ]
    },
    {
      "cell_type": "markdown",
      "source": [
        "# ***MATRIZ IDENTIDADE***"
      ],
      "metadata": {
        "id": "xhZsh5JayhmV"
      }
    },
    {
      "cell_type": "code",
      "source": [
        "matrix5 = np.eye(3)\n",
        "matrix5"
      ],
      "metadata": {
        "colab": {
          "base_uri": "https://localhost:8080/"
        },
        "id": "AnpXJWPOymq1",
        "outputId": "47fa8ae6-0204-46e5-ac0f-179cd2fc625f"
      },
      "execution_count": null,
      "outputs": [
        {
          "output_type": "execute_result",
          "data": {
            "text/plain": [
              "array([[1., 0., 0.],\n",
              "       [0., 1., 0.],\n",
              "       [0., 0., 1.]])"
            ]
          },
          "metadata": {},
          "execution_count": 26
        }
      ]
    },
    {
      "cell_type": "markdown",
      "source": [
        "# ***MATRIZ TRANSPOSTA***"
      ],
      "metadata": {
        "id": "lpPH0nqHzOPl"
      }
    },
    {
      "cell_type": "code",
      "source": [
        "\n",
        "\n",
        "matrix6 = np.array(matrix).T\n",
        "matrix6"
      ],
      "metadata": {
        "colab": {
          "base_uri": "https://localhost:8080/"
        },
        "id": "XuPF01cSzRy4",
        "outputId": "1b2e34d8-cc88-4813-c00f-6312c45b2d3d"
      },
      "execution_count": null,
      "outputs": [
        {
          "output_type": "execute_result",
          "data": {
            "text/plain": [
              "array([[ 1, -4,  7],\n",
              "       [-2,  5,  8],\n",
              "       [ 3,  6, -9]])"
            ]
          },
          "metadata": {},
          "execution_count": 28
        }
      ]
    },
    {
      "cell_type": "markdown",
      "source": [
        "# ***MATRIZ OPOSTA***"
      ],
      "metadata": {
        "id": "UJRKa3xEz5cy"
      }
    },
    {
      "cell_type": "code",
      "source": [
        "matrix7 = -1*matrix\n",
        "matrix7"
      ],
      "metadata": {
        "colab": {
          "base_uri": "https://localhost:8080/"
        },
        "id": "ZubKl9Z00ALf",
        "outputId": "e030d555-d744-42b4-c158-649e1c69b919"
      },
      "execution_count": null,
      "outputs": [
        {
          "output_type": "execute_result",
          "data": {
            "text/plain": [
              "array([[-1,  2, -3],\n",
              "       [ 4, -5, -6],\n",
              "       [-7, -8,  9]])"
            ]
          },
          "metadata": {},
          "execution_count": 29
        }
      ]
    },
    {
      "cell_type": "markdown",
      "source": [
        "# ***MATRIZ LINHA E MATRIZ COLUNA***"
      ],
      "metadata": {
        "id": "UMrw9d3z0g9K"
      }
    },
    {
      "cell_type": "code",
      "source": [
        "linha = np.array([[2,3,4,5]])\n",
        "linha"
      ],
      "metadata": {
        "id": "o4zjer770mO7",
        "outputId": "dd62d028-b6c3-43dc-de85-b6c2811714b7",
        "colab": {
          "base_uri": "https://localhost:8080/"
        }
      },
      "execution_count": null,
      "outputs": [
        {
          "output_type": "execute_result",
          "data": {
            "text/plain": [
              "array([[2, 3, 4, 5]])"
            ]
          },
          "metadata": {},
          "execution_count": 30
        }
      ]
    },
    {
      "cell_type": "code",
      "source": [
        "coluna = np.array([[1],[2],[3]])\n",
        "coluna"
      ],
      "metadata": {
        "id": "ZXJmTkEO1Pfb",
        "outputId": "dbafbf68-8d9b-40c8-827d-59b141bb6fac",
        "colab": {
          "base_uri": "https://localhost:8080/"
        }
      },
      "execution_count": null,
      "outputs": [
        {
          "output_type": "execute_result",
          "data": {
            "text/plain": [
              "array([[1],\n",
              "       [2],\n",
              "       [3]])"
            ]
          },
          "metadata": {},
          "execution_count": 31
        }
      ]
    }
  ],
  "metadata": {
    "colab": {
      "collapsed_sections": [],
      "provenance": [],
      "toc_visible": true
    },
    "kernelspec": {
      "display_name": "Python 3",
      "name": "python3"
    }
  },
  "nbformat": 4,
  "nbformat_minor": 0
}