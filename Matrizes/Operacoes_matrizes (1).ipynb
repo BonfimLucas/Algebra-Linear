{
  "nbformat": 4,
  "nbformat_minor": 0,
  "metadata": {
    "colab": {
      "provenance": [],
      "toc_visible": true
    },
    "kernelspec": {
      "name": "python3",
      "display_name": "Python 3"
    },
    "language_info": {
      "name": "python"
    }
  },
  "cells": [
    {
      "cell_type": "markdown",
      "source": [
        "# **OPERAÇÕES COM MATRIZES**"
      ],
      "metadata": {
        "id": "FdaTVmrM8bc7"
      }
    },
    {
      "cell_type": "code",
      "source": [
        "import numpy as np "
      ],
      "metadata": {
        "id": "9aqvtOrS_r5P"
      },
      "execution_count": 11,
      "outputs": []
    },
    {
      "cell_type": "code",
      "source": [
        "matrizA = np.array([[2,-3],\n",
        "                    [4,-6],\n",
        "                    [6, 9]])"
      ],
      "metadata": {
        "id": "r8eY5i_n8qe8"
      },
      "execution_count": 12,
      "outputs": []
    },
    {
      "cell_type": "code",
      "source": [
        "matrizB = np.array([[1,7],\n",
        "                    [-3,4],\n",
        "                    [5,-8]])"
      ],
      "metadata": {
        "id": "JAej5Seh823l"
      },
      "execution_count": 13,
      "outputs": []
    },
    {
      "cell_type": "markdown",
      "source": [
        "# **SOMA DE MATRIZES**"
      ],
      "metadata": {
        "id": "VB9cDqIY-Ne1"
      }
    },
    {
      "cell_type": "code",
      "source": [
        "somaAB = matrizA + matrizB\n",
        "somaAB"
      ],
      "metadata": {
        "colab": {
          "base_uri": "https://localhost:8080/"
        },
        "id": "tLvNYmNW-c0E",
        "outputId": "22ebabe0-a9ac-4443-ed09-6389b9560b71"
      },
      "execution_count": 9,
      "outputs": [
        {
          "output_type": "execute_result",
          "data": {
            "text/plain": [
              "array([[ 3,  4],\n",
              "       [ 1, -2],\n",
              "       [11,  1]])"
            ]
          },
          "metadata": {},
          "execution_count": 9
        }
      ]
    },
    {
      "cell_type": "markdown",
      "source": [
        "# **SUBTRAÇÃO DE MATRIZES**"
      ],
      "metadata": {
        "id": "D4ardZeV_K1s"
      }
    },
    {
      "cell_type": "code",
      "source": [
        "subAB = matrizA - matrizB\n",
        "subAB"
      ],
      "metadata": {
        "colab": {
          "base_uri": "https://localhost:8080/"
        },
        "id": "zeG-kM7u_Th1",
        "outputId": "faa33bd0-754d-462e-f721-f201ecfe014b"
      },
      "execution_count": 10,
      "outputs": [
        {
          "output_type": "execute_result",
          "data": {
            "text/plain": [
              "array([[  1, -10],\n",
              "       [  7, -10],\n",
              "       [  1,  17]])"
            ]
          },
          "metadata": {},
          "execution_count": 10
        }
      ]
    },
    {
      "cell_type": "markdown",
      "source": [
        "# **MULTIPLICAÇÃO POR UM ESCALAR**\n"
      ],
      "metadata": {
        "id": "DCzkB1kg_zlP"
      }
    },
    {
      "cell_type": "code",
      "source": [
        "Multi1 = 2*matrizA\n",
        "Multi1"
      ],
      "metadata": {
        "colab": {
          "base_uri": "https://localhost:8080/"
        },
        "id": "f1bSCuNF_5Dj",
        "outputId": "2ae0b799-abc8-414f-f761-f037d048461a"
      },
      "execution_count": 15,
      "outputs": [
        {
          "output_type": "execute_result",
          "data": {
            "text/plain": [
              "array([[  4,  -6],\n",
              "       [  8, -12],\n",
              "       [ 12,  18]])"
            ]
          },
          "metadata": {},
          "execution_count": 15
        }
      ]
    },
    {
      "cell_type": "code",
      "source": [
        "Multi2 = 3*matrizB\n",
        "Multi2"
      ],
      "metadata": {
        "colab": {
          "base_uri": "https://localhost:8080/"
        },
        "id": "z9inwPzqAPd0",
        "outputId": "f5385325-dfde-406d-eb22-e825ea50a6e7"
      },
      "execution_count": 16,
      "outputs": [
        {
          "output_type": "execute_result",
          "data": {
            "text/plain": [
              "array([[  3,  21],\n",
              "       [ -9,  12],\n",
              "       [ 15, -24]])"
            ]
          },
          "metadata": {},
          "execution_count": 16
        }
      ]
    },
    {
      "cell_type": "markdown",
      "source": [
        "# **MULTIPLICAÇÃO DE MATRIZES**"
      ],
      "metadata": {
        "id": "ZdxyOUK5A1Wt"
      }
    },
    {
      "cell_type": "code",
      "source": [
        "matrizC = np.array([[2,1],\n",
        "                    [3,4],\n",
        "                    [5,6]])\n",
        "\n",
        "matrizD = np.array([[7,8,0],\n",
        "                    [10,5,-2]])\n"
      ],
      "metadata": {
        "id": "yYrv7UvBA5A9"
      },
      "execution_count": 20,
      "outputs": []
    },
    {
      "cell_type": "code",
      "source": [
        "multiCD = np.dot(matrizC,matrizD)\n",
        "multiCD"
      ],
      "metadata": {
        "colab": {
          "base_uri": "https://localhost:8080/"
        },
        "id": "E2V-eL24CqQn",
        "outputId": "56397cf5-280a-43a3-b290-bc8831d8ebd1"
      },
      "execution_count": 21,
      "outputs": [
        {
          "output_type": "execute_result",
          "data": {
            "text/plain": [
              "array([[ 24,  21,  -2],\n",
              "       [ 61,  44,  -8],\n",
              "       [ 95,  70, -12]])"
            ]
          },
          "metadata": {},
          "execution_count": 21
        }
      ]
    },
    {
      "cell_type": "code",
      "source": [
        "multiDC = np.dot(matrizD,matrizC)\n",
        "multiDC"
      ],
      "metadata": {
        "colab": {
          "base_uri": "https://localhost:8080/"
        },
        "id": "FRIfBqi-C_H1",
        "outputId": "a8ba2f65-971c-4940-9c58-b9371e4bbf7e"
      },
      "execution_count": 22,
      "outputs": [
        {
          "output_type": "execute_result",
          "data": {
            "text/plain": [
              "array([[38, 39],\n",
              "       [25, 18]])"
            ]
          },
          "metadata": {},
          "execution_count": 22
        }
      ]
    }
  ]
}