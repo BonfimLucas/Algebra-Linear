{
  "nbformat": 4,
  "nbformat_minor": 0,
  "metadata": {
    "colab": {
      "provenance": [],
      "toc_visible": true
    },
    "kernelspec": {
      "name": "python3",
      "display_name": "Python 3"
    },
    "language_info": {
      "name": "python"
    }
  },
  "cells": [
    {
      "cell_type": "markdown",
      "source": [
        "# **CRIAÇÃO DE MATRIZ**"
      ],
      "metadata": {
        "id": "N9dpUq_NG7UO"
      }
    },
    {
      "cell_type": "code",
      "source": [
        "import numpy as np"
      ],
      "metadata": {
        "id": "JMjlAjNlG_Zv"
      },
      "execution_count": 1,
      "outputs": []
    },
    {
      "cell_type": "code",
      "source": [
        "matriz1 = np.array([[2,5],\n",
        "                    [1,3]])\n",
        "\n",
        "matriz2 = np.array([[3, -5],\n",
        "                    [-1,2]])"
      ],
      "metadata": {
        "id": "dv-Iu-jEHFSe"
      },
      "execution_count": 2,
      "outputs": []
    },
    {
      "cell_type": "code",
      "source": [
        "multi = np.dot(matriz1, matriz2)\n",
        "multi"
      ],
      "metadata": {
        "colab": {
          "base_uri": "https://localhost:8080/"
        },
        "id": "0Tqd1dKtH2dR",
        "outputId": "2f0d7989-30b7-4fd8-df87-40275b1b36c7"
      },
      "execution_count": 3,
      "outputs": [
        {
          "output_type": "execute_result",
          "data": {
            "text/plain": [
              "array([[1, 0],\n",
              "       [0, 1]])"
            ]
          },
          "metadata": {},
          "execution_count": 3
        }
      ]
    },
    {
      "cell_type": "markdown",
      "source": [
        "# **MATRIZ INVERSA**"
      ],
      "metadata": {
        "id": "xlrxBKz0ID9f"
      }
    },
    {
      "cell_type": "code",
      "source": [
        "matriz_inv = np.linalg.inv(matriz1)\n",
        "matriz_inv"
      ],
      "metadata": {
        "colab": {
          "base_uri": "https://localhost:8080/"
        },
        "id": "a8rYUNt9IGn3",
        "outputId": "4a3bf758-2578-4aa6-ca0a-a6b595a7a207"
      },
      "execution_count": 4,
      "outputs": [
        {
          "output_type": "execute_result",
          "data": {
            "text/plain": [
              "array([[ 3., -5.],\n",
              "       [-1.,  2.]])"
            ]
          },
          "metadata": {},
          "execution_count": 4
        }
      ]
    },
    {
      "cell_type": "code",
      "source": [
        "matriz_inv2 = np.linalg.inv(matriz2)\n",
        "matriz_inv2"
      ],
      "metadata": {
        "colab": {
          "base_uri": "https://localhost:8080/"
        },
        "id": "ImV1DHnCIlrg",
        "outputId": "248c3151-6860-42d0-fa5e-952b1acae2aa"
      },
      "execution_count": 5,
      "outputs": [
        {
          "output_type": "execute_result",
          "data": {
            "text/plain": [
              "array([[2., 5.],\n",
              "       [1., 3.]])"
            ]
          },
          "metadata": {},
          "execution_count": 5
        }
      ]
    },
    {
      "cell_type": "code",
      "source": [
        "matriz3 = np.array([[-11,2,2],\n",
        "                    [-4,0,1],\n",
        "                    [6,-1,-1]])"
      ],
      "metadata": {
        "id": "YulaAbBuKGhZ"
      },
      "execution_count": 7,
      "outputs": []
    },
    {
      "cell_type": "code",
      "source": [
        "matriz_inv3 = np.linalg.inv(matriz3)\n",
        "matriz_inv3"
      ],
      "metadata": {
        "colab": {
          "base_uri": "https://localhost:8080/"
        },
        "id": "DaIrs4eAKT1g",
        "outputId": "61b90201-8f67-4043-9490-d749fab28267"
      },
      "execution_count": 8,
      "outputs": [
        {
          "output_type": "execute_result",
          "data": {
            "text/plain": [
              "array([[ 1.00000000e+00, -2.42230478e-16,  2.00000000e+00],\n",
              "       [ 2.00000000e+00, -1.00000000e+00,  3.00000000e+00],\n",
              "       [ 4.00000000e+00,  1.00000000e+00,  8.00000000e+00]])"
            ]
          },
          "metadata": {},
          "execution_count": 8
        }
      ]
    },
    {
      "cell_type": "code",
      "source": [
        "matriz4 = np.array([[1,2,3],\n",
        "                    [4,5,6],\n",
        "                    [7,8,9]])"
      ],
      "metadata": {
        "id": "lEFWhIONKvLh"
      },
      "execution_count": 9,
      "outputs": []
    },
    {
      "cell_type": "code",
      "source": [
        "matriz_inv4 = np.linalg.inv(matriz4)\n",
        "matriz_inv4"
      ],
      "metadata": {
        "id": "7a_FEhUGK7Cg"
      },
      "execution_count": null,
      "outputs": []
    },
    {
      "cell_type": "markdown",
      "source": [
        "# **DETERMINANTE**"
      ],
      "metadata": {
        "id": "pHjETV_1LhwI"
      }
    },
    {
      "cell_type": "code",
      "source": [
        "matriz5 = np.array([[1,3,2],\n",
        "                    [4,2,4],\n",
        "                    [3,1,5]])"
      ],
      "metadata": {
        "id": "AUpaxoVcLndw"
      },
      "execution_count": 13,
      "outputs": []
    },
    {
      "cell_type": "code",
      "source": [
        "det5 = np.linalg.det(matriz5)\n",
        "det5"
      ],
      "metadata": {
        "colab": {
          "base_uri": "https://localhost:8080/"
        },
        "id": "-b6_Ae8cMWz4",
        "outputId": "945b0f7b-c79c-4e74-99a5-bc2c7b13df6c"
      },
      "execution_count": 15,
      "outputs": [
        {
          "output_type": "execute_result",
          "data": {
            "text/plain": [
              "-22.000000000000004"
            ]
          },
          "metadata": {},
          "execution_count": 15
        }
      ]
    },
    {
      "cell_type": "code",
      "source": [
        "import scipy as sp\n",
        "from scipy import linalg"
      ],
      "metadata": {
        "id": "mqf6giW4PdLn"
      },
      "execution_count": 16,
      "outputs": []
    },
    {
      "cell_type": "code",
      "source": [
        "det5 = sp.linalg.det(matriz5)\n",
        "det5"
      ],
      "metadata": {
        "colab": {
          "base_uri": "https://localhost:8080/"
        },
        "id": "aABCDlv8PkxS",
        "outputId": "83273b1f-479d-4051-f3fa-c9b51fec92cc"
      },
      "execution_count": 17,
      "outputs": [
        {
          "output_type": "execute_result",
          "data": {
            "text/plain": [
              "-22.0"
            ]
          },
          "metadata": {},
          "execution_count": 17
        }
      ]
    },
    {
      "cell_type": "code",
      "source": [
        "matriz6 = np.array([[2,4],\n",
        "                    [3,8]])\n",
        "\n",
        "det6 = np.linalg.det(matriz6)\n",
        "det6"
      ],
      "metadata": {
        "colab": {
          "base_uri": "https://localhost:8080/"
        },
        "id": "GbqhMnIMQFk5",
        "outputId": "87e7c632-f3be-4e17-ff6a-c6dba8e94416"
      },
      "execution_count": 19,
      "outputs": [
        {
          "output_type": "execute_result",
          "data": {
            "text/plain": [
              "3.999999999999999"
            ]
          },
          "metadata": {},
          "execution_count": 19
        }
      ]
    },
    {
      "cell_type": "code",
      "source": [
        "det6 = sp.linalg.det(matriz6)\n",
        "det6"
      ],
      "metadata": {
        "colab": {
          "base_uri": "https://localhost:8080/"
        },
        "id": "DGotSbHSQacx",
        "outputId": "621e417f-e75e-4893-b9ad-b2b36f713b8e"
      },
      "execution_count": 20,
      "outputs": [
        {
          "output_type": "execute_result",
          "data": {
            "text/plain": [
              "4.0"
            ]
          },
          "metadata": {},
          "execution_count": 20
        }
      ]
    },
    {
      "cell_type": "code",
      "source": [
        "matriz7 = np.array([[1,2,3],\n",
        "                    [4,5,6],\n",
        "                    [7,8,9]])\n",
        "\n",
        "det7 = np.linalg.det(matriz7)\n",
        "det7"
      ],
      "metadata": {
        "colab": {
          "base_uri": "https://localhost:8080/"
        },
        "id": "u0W9owPcQzeb",
        "outputId": "5956bd14-a8be-4d5f-d2f1-c3b79106d418"
      },
      "execution_count": 21,
      "outputs": [
        {
          "output_type": "execute_result",
          "data": {
            "text/plain": [
              "0.0"
            ]
          },
          "metadata": {},
          "execution_count": 21
        }
      ]
    },
    {
      "cell_type": "code",
      "source": [
        "det7 = sp.linalg.det(matriz7)\n",
        "det7"
      ],
      "metadata": {
        "colab": {
          "base_uri": "https://localhost:8080/"
        },
        "id": "3m7E5QNmRA9E",
        "outputId": "303648de-52d0-4449-8908-1c7f6a5b0dc6"
      },
      "execution_count": 22,
      "outputs": [
        {
          "output_type": "execute_result",
          "data": {
            "text/plain": [
              "0.0"
            ]
          },
          "metadata": {},
          "execution_count": 22
        }
      ]
    },
    {
      "cell_type": "code",
      "source": [
        "matriz8 = np.array([[1,3,0,-2,1],\n",
        "                    [4,2,4,5,4],\n",
        "                    [0,1,5,-3,2],\n",
        "                    [-2,3,1,0,7],\n",
        "                    [0,1,9,3,2]])\n",
        "\n",
        "det8 = sp.linalg.det(matriz8)\n",
        "det8"
      ],
      "metadata": {
        "colab": {
          "base_uri": "https://localhost:8080/"
        },
        "id": "Txz-vW3iR98C",
        "outputId": "7264eedb-f499-49db-f130-62521a4fd4d5"
      },
      "execution_count": 23,
      "outputs": [
        {
          "output_type": "execute_result",
          "data": {
            "text/plain": [
              "3592.000000000001"
            ]
          },
          "metadata": {},
          "execution_count": 23
        }
      ]
    }
  ]
}