{
  "nbformat": 4,
  "nbformat_minor": 0,
  "metadata": {
    "colab": {
      "provenance": [],
      "toc_visible": true
    },
    "kernelspec": {
      "name": "python3",
      "display_name": "Python 3"
    },
    "language_info": {
      "name": "python"
    }
  },
  "cells": [
    {
      "cell_type": "code",
      "execution_count": 1,
      "metadata": {
        "id": "HFTbyug1czWp"
      },
      "outputs": [],
      "source": [
        "import scipy as sp\n",
        "from scipy import linalg \n",
        "import numpy as np"
      ]
    },
    {
      "cell_type": "markdown",
      "source": [],
      "metadata": {
        "id": "fmmwCU89dQHw"
      }
    },
    {
      "cell_type": "code",
      "source": [
        "matriz = np.array([[1,2,3],\n",
        "                   [2,-1,1],\n",
        "                   [-2,-3,3]])\n",
        "\n",
        "vetor = np.array([2,-1,-11])\n"
      ],
      "metadata": {
        "id": "yfEJx1RxdVVv"
      },
      "execution_count": 23,
      "outputs": []
    },
    {
      "cell_type": "code",
      "source": [
        "np.array([matriz[:,0],matriz[:,1],matriz[:,2]])"
      ],
      "metadata": {
        "colab": {
          "base_uri": "https://localhost:8080/"
        },
        "id": "TFQhgD6oex3A",
        "outputId": "064e8e1b-cc25-4be8-ed14-31ea774d6602"
      },
      "execution_count": 24,
      "outputs": [
        {
          "output_type": "execute_result",
          "data": {
            "text/plain": [
              "array([[ 1,  2, -2],\n",
              "       [ 2, -1, -3],\n",
              "       [ 3,  1,  3]])"
            ]
          },
          "metadata": {},
          "execution_count": 24
        }
      ]
    },
    {
      "cell_type": "code",
      "source": [
        "np.array([matriz[:,0],matriz[:,1],matriz[:,2]]).T"
      ],
      "metadata": {
        "colab": {
          "base_uri": "https://localhost:8080/"
        },
        "id": "Rx5ri0DafYyI",
        "outputId": "cd28b797-09db-4da7-b27b-8e0cd7660db6"
      },
      "execution_count": 25,
      "outputs": [
        {
          "output_type": "execute_result",
          "data": {
            "text/plain": [
              "array([[ 1,  2,  3],\n",
              "       [ 2, -1,  1],\n",
              "       [-2, -3,  3]])"
            ]
          },
          "metadata": {},
          "execution_count": 25
        }
      ]
    },
    {
      "cell_type": "code",
      "source": [
        "def cramer (a,b):\n",
        "  det = sp.linalg.det(np.array([a[:,0],a[:,1],a[:,2]]).T)\n",
        "  if det != 0:\n",
        "    detx = sp.linalg.det(np.array([b[:],a[:,1],a[:,2]]).T)\n",
        "    dety = sp.linalg.det(np.array([a[:,0],b[:],a[:,2]]).T)\n",
        "    detz = sp.linalg.det(np.array([a[:,0],a[:,1],b[:]]).T)\n",
        "\n",
        "    x = detx/det\n",
        "    y = dety/det\n",
        "    z = detz/det\n",
        "\n",
        "    print(f'O valor de X é {x:.2f}')\n",
        "    print(f'O valor de Y é {y:.2f}')\n",
        "    print(f'O valor de Z é {z:.2f}')\n",
        "    \n",
        "  else:\n",
        "      print('A determinante dos coeficientes é nula')"
      ],
      "metadata": {
        "id": "3tbGqu8bfg_Y"
      },
      "execution_count": 19,
      "outputs": []
    },
    {
      "cell_type": "code",
      "source": [
        "cramer(matriz,vetor)"
      ],
      "metadata": {
        "colab": {
          "base_uri": "https://localhost:8080/"
        },
        "id": "H8OZoJiviVkd",
        "outputId": "010778b9-b7c8-4f69-853d-e4d459b1dfeb"
      },
      "execution_count": 26,
      "outputs": [
        {
          "output_type": "stream",
          "name": "stdout",
          "text": [
            "O valor de x é 1.00\n",
            "O valor de y é 2.00\n",
            "O valor de z é -1.00\n"
          ]
        }
      ]
    },
    {
      "cell_type": "code",
      "source": [
        "matriz2 = np.array([[3,2,7],\n",
        "                    [4,-29,3],\n",
        "                    [2,3,5]])\n",
        "\n",
        "matriz2"
      ],
      "metadata": {
        "colab": {
          "base_uri": "https://localhost:8080/"
        },
        "id": "1kiBUe3ImAh_",
        "outputId": "b9436b48-9203-452f-fde2-d0108919564d"
      },
      "execution_count": 27,
      "outputs": [
        {
          "output_type": "execute_result",
          "data": {
            "text/plain": [
              "array([[  3,   2,   7],\n",
              "       [  4, -29,   3],\n",
              "       [  2,   3,   5]])"
            ]
          },
          "metadata": {},
          "execution_count": 27
        }
      ]
    },
    {
      "cell_type": "code",
      "source": [
        "vetor2 = np.array([1,2,2])\n",
        "vetor2"
      ],
      "metadata": {
        "colab": {
          "base_uri": "https://localhost:8080/"
        },
        "id": "q4dxlDgXmTJk",
        "outputId": "43d1cebf-42b1-4b7d-aad6-feb7167830d1"
      },
      "execution_count": 28,
      "outputs": [
        {
          "output_type": "execute_result",
          "data": {
            "text/plain": [
              "array([1, 2, 2])"
            ]
          },
          "metadata": {},
          "execution_count": 28
        }
      ]
    },
    {
      "cell_type": "code",
      "source": [
        "cramer(matriz2,vetor2)"
      ],
      "metadata": {
        "colab": {
          "base_uri": "https://localhost:8080/"
        },
        "id": "XfhQAvQPmaQT",
        "outputId": "92d71e72-94a4-4ee2-dbfb-f9f44a78d226"
      },
      "execution_count": 29,
      "outputs": [
        {
          "output_type": "stream",
          "name": "stdout",
          "text": [
            "A determinante dos coeficientes é nula\n"
          ]
        }
      ]
    },
    {
      "cell_type": "code",
      "source": [
        "sp.linalg.det(matriz2)"
      ],
      "metadata": {
        "colab": {
          "base_uri": "https://localhost:8080/"
        },
        "id": "bkw3LeiCmxsm",
        "outputId": "bb2c1cdf-fb4f-4e4e-a7de-c6fe79fad62a"
      },
      "execution_count": 30,
      "outputs": [
        {
          "output_type": "execute_result",
          "data": {
            "text/plain": [
              "0.0"
            ]
          },
          "metadata": {},
          "execution_count": 30
        }
      ]
    },
    {
      "cell_type": "code",
      "source": [
        "def cramer2 (A,b):\n",
        "  det = sp.linalg.det(np.array([A[:,0],A[:,1]]).T)\n",
        "  if det != 0:\n",
        "    detx = sp.linalg.det(np.array([b[:],A[:,1]]).T)\n",
        "    dety = sp.linalg.det(np.array([A[:,0],b[:]]).T)\n",
        "\n",
        "    x = detx/det\n",
        "    y = dety/det\n",
        "    \n",
        "    print('O valor de x é {:.2f}'.format (x))\n",
        "    print('O valor de y é {:.2f}'.format (y))\n",
        "  else:\n",
        "    print(\"Determinante da matriz dos coeficientes é nula\")"
      ],
      "metadata": {
        "id": "Ds0_Bu-MnY7a"
      },
      "execution_count": 33,
      "outputs": []
    },
    {
      "cell_type": "code",
      "source": [
        "matriz3 = np.array([[1,4],\n",
        "                   [2,3]])\n",
        "\n",
        "\n",
        "vetor3 = np.array([200,180])"
      ],
      "metadata": {
        "id": "I0lH1Mx0oDy6"
      },
      "execution_count": 34,
      "outputs": []
    },
    {
      "cell_type": "code",
      "source": [
        "cramer2(matriz3,vetor3)"
      ],
      "metadata": {
        "colab": {
          "base_uri": "https://localhost:8080/"
        },
        "id": "_lLMPtKfoQ7i",
        "outputId": "2364220c-0b18-42be-fab3-fe40e5db1049"
      },
      "execution_count": 35,
      "outputs": [
        {
          "output_type": "stream",
          "name": "stdout",
          "text": [
            "O valor de x é 24.00\n",
            "O valor de y é 44.00\n"
          ]
        }
      ]
    }
  ]
}